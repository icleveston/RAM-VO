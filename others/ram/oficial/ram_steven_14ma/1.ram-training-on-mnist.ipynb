{
 "cells": [
  {
   "cell_type": "markdown",
   "metadata": {},
   "source": [
    "# Training RAM on MNIST\n",
    "\n",
    "## Requirements\n",
    "\n",
    "### Imports"
   ]
  },
  {
   "cell_type": "code",
   "execution_count": 8,
   "metadata": {},
   "outputs": [
    {
     "ename": "IndentationError",
     "evalue": "unindent does not match any outer indentation level (augmented_mnist.py, line 52)",
     "output_type": "error",
     "traceback": [
      "Traceback \u001b[0;36m(most recent call last)\u001b[0m:\n",
      "  File \u001b[1;32m\"/usr/lib/python3.8/site-packages/IPython/core/interactiveshell.py\"\u001b[0m, line \u001b[1;32m3331\u001b[0m, in \u001b[1;35mrun_code\u001b[0m\n    exec(code_obj, self.user_global_ns, self.user_ns)\n",
      "\u001b[0;36m  File \u001b[0;32m\"<ipython-input-8-62143c058ec9>\"\u001b[0;36m, line \u001b[0;32m12\u001b[0;36m, in \u001b[0;35m<module>\u001b[0;36m\u001b[0m\n\u001b[0;31m    from data.augmented_mnist import minibatcher\u001b[0m\n",
      "\u001b[0;36m  File \u001b[0;32m\"/home/iury/Recurrent-Models-of-Visual-Attention-TF-2.0-master/data/augmented_mnist.py\"\u001b[0;36m, line \u001b[0;32m52\u001b[0m\n\u001b[0;31m    (train_images, y_train), (test_images, y_test) = tf.keras.datasets.mnist.load_data()\u001b[0m\n\u001b[0m                                                                                        ^\u001b[0m\n\u001b[0;31mIndentationError\u001b[0m\u001b[0;31m:\u001b[0m unindent does not match any outer indentation level\n"
     ]
    }
   ],
   "source": [
    "from tqdm import tqdm\n",
    "\n",
    "# 2019041500 - use this tf nightly version\n",
    "import tensorflow as tf\n",
    "import logging\n",
    "tf.get_logger().setLevel(logging.ERROR)\n",
    "\n",
    "import numpy as np\n",
    "\n",
    "from model.ram import RecurrentAttentionModel\n",
    "\n",
    "from data.augmented_mnist import minibatcher\n",
    "from data.augmented_mnist import get_mnist\n",
    "\n",
    "from bayes_opt import BayesianOptimization\n",
    "from bayes_opt.util import load_logs"
   ]
  },
  {
   "cell_type": "markdown",
   "metadata": {},
   "source": [
    "### Data"
   ]
  },
  {
   "cell_type": "code",
   "execution_count": 3,
   "metadata": {},
   "outputs": [
    {
     "ename": "NameError",
     "evalue": "name 'get_mnist' is not defined",
     "output_type": "error",
     "traceback": [
      "\u001b[0;31m---------------------------------------------------------------------------\u001b[0m",
      "\u001b[0;31mNameError\u001b[0m                                 Traceback (most recent call last)",
      "\u001b[0;32m<ipython-input-3-c21511925382>\u001b[0m in \u001b[0;36m<module>\u001b[0;34m\u001b[0m\n\u001b[1;32m      1\u001b[0m \u001b[0mbatch_size\u001b[0m \u001b[0;34m=\u001b[0m \u001b[0;36m100\u001b[0m\u001b[0;34m\u001b[0m\u001b[0;34m\u001b[0m\u001b[0m\n\u001b[1;32m      2\u001b[0m \u001b[0;34m\u001b[0m\u001b[0m\n\u001b[0;32m----> 3\u001b[0;31m \u001b[0;34m(\u001b[0m\u001b[0mX_train\u001b[0m\u001b[0;34m,\u001b[0m \u001b[0my_train\u001b[0m\u001b[0;34m)\u001b[0m\u001b[0;34m,\u001b[0m\u001b[0;34m(\u001b[0m\u001b[0mX_test\u001b[0m\u001b[0;34m,\u001b[0m \u001b[0my_test\u001b[0m\u001b[0;34m)\u001b[0m \u001b[0;34m=\u001b[0m \u001b[0mget_mnist\u001b[0m\u001b[0;34m(\u001b[0m\u001b[0;32mTrue\u001b[0m\u001b[0;34m,\u001b[0m \u001b[0;32mTrue\u001b[0m\u001b[0;34m,\u001b[0m \u001b[0;32mFalse\u001b[0m\u001b[0;34m)\u001b[0m\u001b[0;34m\u001b[0m\u001b[0;34m\u001b[0m\u001b[0m\n\u001b[0m\u001b[1;32m      4\u001b[0m \u001b[0;34m\u001b[0m\u001b[0m\n\u001b[1;32m      5\u001b[0m \u001b[0mprint\u001b[0m\u001b[0;34m(\u001b[0m\u001b[0mX_train\u001b[0m\u001b[0;34m.\u001b[0m\u001b[0mshape\u001b[0m\u001b[0;34m,\u001b[0m \u001b[0my_train\u001b[0m\u001b[0;34m.\u001b[0m\u001b[0mshape\u001b[0m\u001b[0;34m,\u001b[0m \u001b[0mnp\u001b[0m\u001b[0;34m.\u001b[0m\u001b[0mmax\u001b[0m\u001b[0;34m(\u001b[0m\u001b[0mX_train\u001b[0m\u001b[0;34m)\u001b[0m\u001b[0;34m,\u001b[0m \u001b[0mnp\u001b[0m\u001b[0;34m.\u001b[0m\u001b[0mmin\u001b[0m\u001b[0;34m(\u001b[0m\u001b[0mX_train\u001b[0m\u001b[0;34m)\u001b[0m\u001b[0;34m)\u001b[0m\u001b[0;34m\u001b[0m\u001b[0;34m\u001b[0m\u001b[0m\n",
      "\u001b[0;31mNameError\u001b[0m: name 'get_mnist' is not defined"
     ]
    }
   ],
   "source": [
    "batch_size = 100\n",
    "\n",
    "(X_train, y_train),(X_test, y_test) = get_mnist(True, True, False)\n",
    "\n",
    "print(X_train.shape, y_train.shape, np.max(X_train), np.min(X_train))\n",
    "print(X_test.shape, y_test.shape, np.max(X_test), np.min(X_test))"
   ]
  },
  {
   "cell_type": "markdown",
   "metadata": {},
   "source": [
    "## Training"
   ]
  },
  {
   "cell_type": "markdown",
   "metadata": {},
   "source": [
    "### Hyperparameter"
   ]
  },
  {
   "cell_type": "code",
   "execution_count": null,
   "metadata": {},
   "outputs": [],
   "source": [
    "learning_rate = 0.001\n",
    "std = 0.25\n",
    "\n",
    "ram = RecurrentAttentionModel(time_steps=7,\n",
    "                              n_glimpses=1, \n",
    "                              glimpse_size=8,\n",
    "                              num_classes=10,\n",
    "                              max_gradient_norm=1.0,\n",
    "                              std=std)\n",
    "adam_opt = tf.keras.optimizers.Adam(learning_rate)"
   ]
  },
  {
   "cell_type": "markdown",
   "metadata": {},
   "source": [
    "### Trainingsloop"
   ]
  },
  {
   "cell_type": "code",
   "execution_count": null,
   "metadata": {},
   "outputs": [],
   "source": [
    "for timestep in tqdm(range(200)): # after 50 steps a accuracy of 95% is reached \n",
    "    losses = []\n",
    "    rewards = []\n",
    "    classification_losses = []\n",
    "    \n",
    "    # training steps\n",
    "    batcher = minibatcher(X_train, y_train, batch_size, True)\n",
    "    for X, y in batcher:\n",
    "        with tf.GradientTape() as tape:\n",
    "            # calculate lossest\n",
    "            logits = ram(X)\n",
    "            loss, classification_loss, reward, _ = ram.hybrid_loss(logits, y)\n",
    "            \n",
    "            # append to list for output\n",
    "            losses.append(loss.numpy())\n",
    "            classification_losses.append(classification_loss.numpy())\n",
    "            rewards.append(reward.numpy())\n",
    "            \n",
    "            # calculate gradient and do gradient descent\n",
    "            gradients = tape.gradient(loss, ram.trainable_variables)\n",
    "            adam_opt.apply_gradients(zip(gradients, ram.trainable_variables))\n",
    "        \n",
    "    # testing steps\n",
    "    batcher = minibatcher(X_test, y_test, batch_size, True)\n",
    "    accuracys = []\n",
    "    for X, y in batcher:\n",
    "        logits = ram(X)\n",
    "        accuracy, prediction, location = ram.predict(logits, y)\n",
    "        accuracys.append(accuracy.numpy())\n",
    "\n",
    "    print(\"step\", timestep, \"accuracy:\", np.mean(accuracys))"
   ]
  },
  {
   "cell_type": "markdown",
   "metadata": {},
   "source": [
    "## Testing"
   ]
  },
  {
   "cell_type": "code",
   "execution_count": null,
   "metadata": {},
   "outputs": [],
   "source": [
    "batcher = minibatcher(X_test, y_test, batch_size, True)\n",
    "accuracys = []\n",
    "for X, y in batcher:\n",
    "    logits = ram(X)\n",
    "    accuracy, prediction, location = ram.predict(logits, y)\n",
    "    accuracys.append(accuracy.numpy())\n",
    "\n",
    "print(\"accuracy:\", np.mean(accuracys))"
   ]
  },
  {
   "cell_type": "code",
   "execution_count": null,
   "metadata": {},
   "outputs": [],
   "source": [
    "for i in range(10):\n",
    "    index = np.where(np.argmax(y_test, 1) == i)[0]\n",
    "    batcher = minibatcher(X_test[index], y_test[index], batch_size, True)\n",
    "    accuracys = []\n",
    "    for X, y in batcher:\n",
    "        logits = ram(X)\n",
    "        accuracy, prediction, location = ram.predict(logits, y)\n",
    "        accuracys.append(accuracy.numpy())\n",
    "    print(\"number\", i, \"accuracy:\", np.mean(accuracys))"
   ]
  },
  {
   "cell_type": "markdown",
   "metadata": {},
   "source": [
    "## Visualization"
   ]
  },
  {
   "cell_type": "code",
   "execution_count": null,
   "metadata": {},
   "outputs": [],
   "source": [
    "def plot_path_of(number, batch):\n",
    "    from visualization.model import plot_prediction_path\n",
    "    imgs = X_test[batch*batch_size:batch*batch_size + batch_size]\n",
    "    labels = y_test[batch*batch_size:batch*batch_size + batch_size]\n",
    "    logits = ram(imgs)\n",
    "    _, prediction, location = ram.predict(logits, labels)\n",
    "    labels = np.argmax(labels, 1)\n",
    "    for i, (y, y_hat) in enumerate(zip(list(prediction.numpy()), list(labels))):\n",
    "        if y == y_hat & y == number:\n",
    "            loc = location[i].numpy()\n",
    "            img = imgs[i]\n",
    "            plot_prediction_path(img, loc, 1, 8)\n",
    "        if y != y_hat & y == number:\n",
    "            loc = location[i].numpy()\n",
    "            img = imgs[i]\n",
    "            plot_prediction_path(img, loc, 1, 8)"
   ]
  },
  {
   "cell_type": "code",
   "execution_count": null,
   "metadata": {},
   "outputs": [],
   "source": [
    "plot_path_of(0, 1)\n",
    "plot_path_of(0, 13)\n",
    "plot_path_of(0, 7)\n",
    "plot_path_of(0, 5)\n",
    "plot_path_of(0, 10)\n",
    "plot_path_of(0, 42)\n",
    "plot_path_of(0, 17)\n",
    "plot_path_of(0, 35)\n",
    "plot_path_of(0, 75)\n",
    "plot_path_of(0, 12)"
   ]
  },
  {
   "cell_type": "code",
   "execution_count": null,
   "metadata": {},
   "outputs": [],
   "source": [
    "plot_path_of(1, 1)\n",
    "plot_path_of(1, 13)\n",
    "plot_path_of(1, 7)\n",
    "plot_path_of(1, 5)\n",
    "plot_path_of(1, 10)\n",
    "plot_path_of(1, 42)\n",
    "plot_path_of(1, 17)\n",
    "plot_path_of(1, 35)\n",
    "plot_path_of(1, 75)\n",
    "plot_path_of(1, 11)"
   ]
  },
  {
   "cell_type": "code",
   "execution_count": null,
   "metadata": {},
   "outputs": [],
   "source": [
    "plot_path_of(2, 1)\n",
    "plot_path_of(2, 13)\n",
    "plot_path_of(2, 7)\n",
    "plot_path_of(2, 5)\n",
    "plot_path_of(2, 10)\n",
    "plot_path_of(2, 42)\n",
    "plot_path_of(2, 17)\n",
    "plot_path_of(2, 35)\n",
    "plot_path_of(2, 75)\n",
    "plot_path_of(2, 97)"
   ]
  },
  {
   "cell_type": "code",
   "execution_count": null,
   "metadata": {},
   "outputs": [],
   "source": [
    "plot_path_of(3, 1)\n",
    "plot_path_of(3, 13)\n",
    "plot_path_of(3, 7)\n",
    "plot_path_of(3, 5)\n",
    "plot_path_of(3, 10)\n",
    "plot_path_of(3, 42)\n",
    "plot_path_of(3, 17)\n",
    "plot_path_of(3, 35)\n",
    "plot_path_of(3, 75)\n",
    "plot_path_of(3, 98)"
   ]
  },
  {
   "cell_type": "code",
   "execution_count": null,
   "metadata": {},
   "outputs": [],
   "source": [
    "plot_path_of(4, 1)\n",
    "plot_path_of(4, 13)\n",
    "plot_path_of(4, 7)\n",
    "plot_path_of(4, 5)\n",
    "plot_path_of(4, 10)\n",
    "plot_path_of(4, 42)\n",
    "plot_path_of(4, 17)\n",
    "plot_path_of(4, 35)\n",
    "plot_path_of(4, 75)\n",
    "plot_path_of(4, 99)"
   ]
  },
  {
   "cell_type": "code",
   "execution_count": null,
   "metadata": {},
   "outputs": [],
   "source": [
    "plot_path_of(5, 1)\n",
    "plot_path_of(5, 13)\n",
    "plot_path_of(5, 7)\n",
    "plot_path_of(5, 5)\n",
    "plot_path_of(5, 10)\n",
    "plot_path_of(5, 42)\n",
    "plot_path_of(5, 17)\n",
    "plot_path_of(5, 35)\n",
    "plot_path_of(5, 75)\n",
    "plot_path_of(5, 42)"
   ]
  },
  {
   "cell_type": "code",
   "execution_count": null,
   "metadata": {},
   "outputs": [],
   "source": [
    "plot_path_of(6, 1)\n",
    "plot_path_of(6, 13)\n",
    "plot_path_of(6, 7)\n",
    "plot_path_of(6, 5)\n",
    "plot_path_of(6, 10)\n",
    "plot_path_of(6, 42)\n",
    "plot_path_of(6, 17)\n",
    "plot_path_of(6, 35)\n",
    "plot_path_of(6, 75)\n",
    "plot_path_of(6, 13)"
   ]
  },
  {
   "cell_type": "code",
   "execution_count": null,
   "metadata": {},
   "outputs": [],
   "source": [
    "plot_path_of(7, 1)\n",
    "plot_path_of(7, 13)\n",
    "plot_path_of(7, 7)\n",
    "plot_path_of(7, 5)\n",
    "plot_path_of(7, 10)\n",
    "plot_path_of(7, 42)\n",
    "plot_path_of(7, 17)\n",
    "plot_path_of(7, 35)\n",
    "plot_path_of(7, 75)\n",
    "plot_path_of(7, 4)"
   ]
  },
  {
   "cell_type": "code",
   "execution_count": null,
   "metadata": {
    "scrolled": true
   },
   "outputs": [],
   "source": [
    "plot_path_of(8, 1)\n",
    "plot_path_of(8, 13)\n",
    "plot_path_of(8, 7)\n",
    "plot_path_of(8, 5)\n",
    "plot_path_of(8, 10)\n",
    "plot_path_of(8, 42)\n",
    "plot_path_of(8, 17)\n",
    "plot_path_of(8, 35)\n",
    "plot_path_of(8, 75)\n",
    "plot_path_of(8, 5)"
   ]
  },
  {
   "cell_type": "code",
   "execution_count": null,
   "metadata": {},
   "outputs": [],
   "source": [
    "plot_path_of(9, 1)\n",
    "plot_path_of(9, 13)\n",
    "plot_path_of(9, 7)\n",
    "plot_path_of(9, 5)\n",
    "plot_path_of(9, 10)\n",
    "plot_path_of(9, 42)\n",
    "plot_path_of(9, 17)\n",
    "plot_path_of(9, 35)\n",
    "plot_path_of(9, 75)\n",
    "plot_path_of(9, 8)"
   ]
  }
 ],
 "metadata": {
  "kernelspec": {
   "display_name": "Python 3",
   "language": "python",
   "name": "python3"
  },
  "language_info": {
   "codemirror_mode": {
    "name": "ipython",
    "version": 3
   },
   "file_extension": ".py",
   "mimetype": "text/x-python",
   "name": "python",
   "nbconvert_exporter": "python",
   "pygments_lexer": "ipython3",
   "version": "3.8.1"
  },
  "notify_time": "0",
  "toc": {
   "base_numbering": 1,
   "nav_menu": {
    "height": "228px",
    "width": "160px"
   },
   "number_sections": true,
   "sideBar": true,
   "skip_h1_title": false,
   "title_cell": "Table of Contents",
   "title_sidebar": "Contents",
   "toc_cell": false,
   "toc_position": {},
   "toc_section_display": true,
   "toc_window_display": false
  },
  "varInspector": {
   "cols": {
    "lenName": 16,
    "lenType": 16,
    "lenVar": 40
   },
   "kernels_config": {
    "python": {
     "delete_cmd_postfix": "",
     "delete_cmd_prefix": "del ",
     "library": "var_list.py",
     "varRefreshCmd": "print(var_dic_list())"
    },
    "r": {
     "delete_cmd_postfix": ") ",
     "delete_cmd_prefix": "rm(",
     "library": "var_list.r",
     "varRefreshCmd": "cat(var_dic_list()) "
    }
   },
   "position": {
    "height": "176px",
    "left": "909px",
    "right": "50px",
    "top": "121px",
    "width": "321px"
   },
   "types_to_exclude": [
    "module",
    "function",
    "builtin_function_or_method",
    "instance",
    "_Feature"
   ],
   "window_display": false
  },
  "widgets": {
   "application/vnd.jupyter.widget-state+json": {
    "state": {},
    "version_major": 2,
    "version_minor": 0
   }
  }
 },
 "nbformat": 4,
 "nbformat_minor": 2
}
