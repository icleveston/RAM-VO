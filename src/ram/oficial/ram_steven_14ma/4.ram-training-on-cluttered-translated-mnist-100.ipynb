{
 "cells": [
  {
   "cell_type": "markdown",
   "metadata": {},
   "source": [
    "# Training RAM on Cluttered Translated MNIST 100x100\n",
    "\n",
    "## Requirements\n",
    "\n",
    "### Imports"
   ]
  },
  {
   "cell_type": "code",
   "execution_count": null,
   "metadata": {},
   "outputs": [],
   "source": [
    "from tqdm import tqdm\n",
    "\n",
    "# 2019041500 - use this tf nightly version\n",
    "import tensorflow as tf\n",
    "import logging\n",
    "tf.get_logger().setLevel(logging.ERROR)\n",
    "\n",
    "import numpy as np\n",
    "\n",
    "from model.ram import RecurrentAttentionModel\n",
    "\n",
    "from data.augmented_mnist import minibatcher\n",
    "from data.augmented_mnist import get_cluttered_translated_mnist\n",
    "\n",
    "from bayes_opt import BayesianOptimization\n",
    "from bayes_opt.util import load_logs"
   ]
  },
  {
   "cell_type": "markdown",
   "metadata": {},
   "source": [
    "### Data"
   ]
  },
  {
   "cell_type": "code",
   "execution_count": null,
   "metadata": {},
   "outputs": [],
   "source": [
    "def create_cluttered_translated_mnist():\n",
    "    (X_train, y_train),(X_test, y_test) = get_cluttered_translated_mnist(8, 100, 100, 8, 8)\n",
    "\n",
    "    X_train = X_train.reshape(-1, 100, 100, 1)\n",
    "    X_test = X_test.reshape(-1, 100, 100, 1)\n",
    "\n",
    "    X_train = (X_train/255).astype(np.float32)\n",
    "    X_test = (X_test/255).astype(np.float32)\n",
    "\n",
    "    y_train = tf.keras.utils.to_categorical(y_train)\n",
    "    y_test = tf.keras.utils.to_categorical(y_test)\n",
    "    return (X_train, y_train),(X_test, y_test)"
   ]
  },
  {
   "cell_type": "markdown",
   "metadata": {},
   "source": [
    "## Training\n",
    "### Hyperparameter"
   ]
  },
  {
   "cell_type": "code",
   "execution_count": null,
   "metadata": {},
   "outputs": [],
   "source": [
    "learning_rate=0.0001\n",
    "std = 0.20\n",
    "\n",
    "ram = RecurrentAttentionModel(time_steps=8,\n",
    "                              n_glimpses=4, \n",
    "                              glimpse_size=12,\n",
    "                              num_classes=10,\n",
    "                              max_gradient_norm=1.0,\n",
    "                              std=std)\n",
    "adam_opt = tf.keras.optimizers.Adam(learning_rate)\n",
    "\n",
    "batch_size = 100"
   ]
  },
  {
   "cell_type": "markdown",
   "metadata": {},
   "source": [
    "### Trainingsloop"
   ]
  },
  {
   "cell_type": "code",
   "execution_count": null,
   "metadata": {
    "scrolled": true
   },
   "outputs": [],
   "source": [
    "for timestep in tqdm(range(1000)):\n",
    "    losses = []\n",
    "    rewards = []\n",
    "    classification_losses = []\n",
    "    \n",
    "    # training steps\n",
    "    (X_train, y_train),(X_test, y_test) = create_cluttered_translated_mnist()\n",
    "    batcher = minibatcher(X_train, y_train, batch_size, True)\n",
    "    for X, y in batcher:\n",
    "        with tf.GradientTape() as tape:\n",
    "            # calculate losses\n",
    "            logits = ram(X)\n",
    "            loss, classification_loss, reward, _ = ram.hybrid_loss(logits, y)\n",
    "            \n",
    "            # append to list for output\n",
    "            losses.append(loss.numpy())\n",
    "            classification_losses.append(classification_loss.numpy())\n",
    "            rewards.append(reward.numpy())\n",
    "            \n",
    "            # calculate gradient and do gradient descent\n",
    "            gradients = tape.gradient(loss, ram.trainable_variables)\n",
    "            adam_opt.apply_gradients(zip(gradients, ram.trainable_variables))\n",
    "            \n",
    "        \n",
    "    # testing steps\n",
    "    batcher = minibatcher(X_test, y_test, batch_size, True)\n",
    "    accuracys = []\n",
    "    for X, y in batcher:\n",
    "        logits = ram(X)\n",
    "        accuracy, prediction, location = ram.predict(logits, y)\n",
    "        accuracys.append(accuracy.numpy())\n",
    "\n",
    "    print(\"step\", timestep, \"accuracy:\", np.mean(accuracys))"
   ]
  },
  {
   "cell_type": "markdown",
   "metadata": {},
   "source": [
    "## Testing"
   ]
  },
  {
   "cell_type": "code",
   "execution_count": null,
   "metadata": {},
   "outputs": [],
   "source": [
    "acc = []\n",
    "for i in range(100):\n",
    "    (X_train, y_train),(X_test, y_test) = create_cluttered_translated_mnist()\n",
    "    batcher = minibatcher(X_test, y_test, batch_size, True)\n",
    "    accuracys = []\n",
    "    for X, y in batcher:\n",
    "        logits = ram(X)\n",
    "        accuracy, _, _ = ram.predict(logits, y)\n",
    "        accuracys.append(accuracy.numpy())\n",
    "    acc.append(np.mean(accuracys))\n",
    "    \n",
    "print(\"accuracy\", np.mean(acc))"
   ]
  },
  {
   "cell_type": "code",
   "execution_count": null,
   "metadata": {},
   "outputs": [],
   "source": [
    "for i in range(10):\n",
    "    index = np.where(np.argmax(y_test, 1) == i)[0]\n",
    "    batcher = minibatcher(X_test[index], y_test[index], batch_size, True)\n",
    "    accuracys = []\n",
    "    for X, y in batcher:\n",
    "        logits = ram(X)\n",
    "        accuracy, prediction, location = ram.predict(logits, y)\n",
    "        accuracys.append(accuracy.numpy())\n",
    "    print(\"number\", i, \"accuracy:\", np.mean(accuracys))"
   ]
  },
  {
   "cell_type": "markdown",
   "metadata": {},
   "source": [
    "## Visualization"
   ]
  },
  {
   "cell_type": "code",
   "execution_count": null,
   "metadata": {},
   "outputs": [],
   "source": [
    "def plot_path_of(number, batch):\n",
    "    from visualization.model import plot_prediction_path\n",
    "    imgs = X_test[batch*batch_size:batch*batch_size + batch_size]\n",
    "    labels = y_test[batch*batch_size:batch*batch_size + batch_size]\n",
    "    logits = ram(imgs)\n",
    "    _, prediction, location = ram.predict(logits, labels)\n",
    "    labels = np.argmax(labels, 1)\n",
    "    for i, (y, y_hat) in enumerate(zip(list(prediction.numpy()), list(labels))):\n",
    "        if y == y_hat & y == number:\n",
    "            loc = location[i].numpy()\n",
    "            img = imgs[i]\n",
    "            plot_prediction_path(img, loc, 4, 12)\n",
    "        if y != y_hat & y == number:\n",
    "            loc = location[i].numpy()\n",
    "            img = imgs[i]\n",
    "            plot_prediction_path(img, loc, 4, 12)"
   ]
  },
  {
   "cell_type": "code",
   "execution_count": null,
   "metadata": {},
   "outputs": [],
   "source": [
    "plot_path_of(0, 1)\n",
    "plot_path_of(0, 13)\n",
    "plot_path_of(0, 7)\n",
    "plot_path_of(0, 5)\n",
    "plot_path_of(0, 10)\n",
    "plot_path_of(0, 42)\n",
    "plot_path_of(0, 17)\n",
    "plot_path_of(0, 35)\n",
    "plot_path_of(0, 75)\n",
    "plot_path_of(0, 12)"
   ]
  },
  {
   "cell_type": "code",
   "execution_count": null,
   "metadata": {},
   "outputs": [],
   "source": [
    "plot_path_of(1, 1)\n",
    "plot_path_of(1, 13)\n",
    "plot_path_of(1, 7)\n",
    "plot_path_of(1, 5)\n",
    "plot_path_of(1, 10)\n",
    "plot_path_of(1, 42)\n",
    "plot_path_of(1, 17)\n",
    "plot_path_of(1, 35)\n",
    "plot_path_of(1, 75)\n",
    "plot_path_of(1, 11)"
   ]
  },
  {
   "cell_type": "code",
   "execution_count": null,
   "metadata": {},
   "outputs": [],
   "source": [
    "plot_path_of(2, 1)\n",
    "plot_path_of(2, 13)\n",
    "plot_path_of(2, 7)\n",
    "plot_path_of(2, 5)\n",
    "plot_path_of(2, 10)\n",
    "plot_path_of(2, 42)\n",
    "plot_path_of(2, 17)\n",
    "plot_path_of(2, 35)\n",
    "plot_path_of(2, 75)\n",
    "plot_path_of(2, 97)"
   ]
  },
  {
   "cell_type": "code",
   "execution_count": null,
   "metadata": {},
   "outputs": [],
   "source": [
    "plot_path_of(3, 1)\n",
    "plot_path_of(3, 13)\n",
    "plot_path_of(3, 7)\n",
    "plot_path_of(3, 5)\n",
    "plot_path_of(3, 10)\n",
    "plot_path_of(3, 42)\n",
    "plot_path_of(3, 17)\n",
    "plot_path_of(3, 35)\n",
    "plot_path_of(3, 75)\n",
    "plot_path_of(3, 98)"
   ]
  },
  {
   "cell_type": "code",
   "execution_count": null,
   "metadata": {},
   "outputs": [],
   "source": [
    "plot_path_of(4, 1)\n",
    "plot_path_of(4, 13)\n",
    "plot_path_of(4, 7)\n",
    "plot_path_of(4, 5)\n",
    "plot_path_of(4, 10)\n",
    "plot_path_of(4, 42)\n",
    "plot_path_of(4, 17)\n",
    "plot_path_of(4, 35)\n",
    "plot_path_of(4, 75)\n",
    "plot_path_of(4, 99)"
   ]
  },
  {
   "cell_type": "code",
   "execution_count": null,
   "metadata": {},
   "outputs": [],
   "source": [
    "plot_path_of(5, 1)\n",
    "plot_path_of(5, 13)\n",
    "plot_path_of(5, 7)\n",
    "plot_path_of(5, 5)\n",
    "plot_path_of(5, 10)\n",
    "plot_path_of(5, 42)\n",
    "plot_path_of(5, 17)\n",
    "plot_path_of(5, 35)\n",
    "plot_path_of(5, 75)\n",
    "plot_path_of(5, 42)"
   ]
  },
  {
   "cell_type": "code",
   "execution_count": null,
   "metadata": {},
   "outputs": [],
   "source": [
    "plot_path_of(6, 1)\n",
    "plot_path_of(6, 13)\n",
    "plot_path_of(6, 7)\n",
    "plot_path_of(6, 5)\n",
    "plot_path_of(6, 10)\n",
    "plot_path_of(6, 42)\n",
    "plot_path_of(6, 17)\n",
    "plot_path_of(6, 35)\n",
    "plot_path_of(6, 75)\n",
    "plot_path_of(6, 13)"
   ]
  },
  {
   "cell_type": "code",
   "execution_count": null,
   "metadata": {},
   "outputs": [],
   "source": [
    "plot_path_of(7, 1)\n",
    "plot_path_of(7, 13)\n",
    "plot_path_of(7, 7)\n",
    "plot_path_of(7, 5)\n",
    "plot_path_of(7, 10)\n",
    "plot_path_of(7, 42)\n",
    "plot_path_of(7, 17)\n",
    "plot_path_of(7, 35)\n",
    "plot_path_of(7, 75)\n",
    "plot_path_of(7, 4)"
   ]
  },
  {
   "cell_type": "code",
   "execution_count": null,
   "metadata": {},
   "outputs": [],
   "source": [
    "plot_path_of(8, 1)\n",
    "plot_path_of(8, 13)\n",
    "plot_path_of(8, 7)\n",
    "plot_path_of(8, 5)\n",
    "plot_path_of(8, 10)\n",
    "plot_path_of(8, 42)\n",
    "plot_path_of(8, 17)\n",
    "plot_path_of(8, 35)\n",
    "plot_path_of(8, 75)\n",
    "plot_path_of(8, 5)"
   ]
  },
  {
   "cell_type": "code",
   "execution_count": null,
   "metadata": {},
   "outputs": [],
   "source": [
    "plot_path_of(9, 1)\n",
    "plot_path_of(9, 13)\n",
    "plot_path_of(9, 7)\n",
    "plot_path_of(9, 5)\n",
    "plot_path_of(9, 10)\n",
    "plot_path_of(9, 42)\n",
    "plot_path_of(9, 17)\n",
    "plot_path_of(9, 35)\n",
    "plot_path_of(9, 75)\n",
    "plot_path_of(9, 8)"
   ]
  }
 ],
 "metadata": {
  "kernelspec": {
   "display_name": "Python 3",
   "language": "python",
   "name": "python3"
  },
  "language_info": {
   "codemirror_mode": {
    "name": "ipython",
    "version": 3
   },
   "file_extension": ".py",
   "mimetype": "text/x-python",
   "name": "python",
   "nbconvert_exporter": "python",
   "pygments_lexer": "ipython3",
   "version": "3.8.1"
  },
  "notify_time": "0",
  "varInspector": {
   "cols": {
    "lenName": 16,
    "lenType": 16,
    "lenVar": 40
   },
   "kernels_config": {
    "python": {
     "delete_cmd_postfix": "",
     "delete_cmd_prefix": "del ",
     "library": "var_list.py",
     "varRefreshCmd": "print(var_dic_list())"
    },
    "r": {
     "delete_cmd_postfix": ") ",
     "delete_cmd_prefix": "rm(",
     "library": "var_list.r",
     "varRefreshCmd": "cat(var_dic_list()) "
    }
   },
   "position": {
    "height": "176px",
    "left": "909px",
    "right": "50px",
    "top": "121px",
    "width": "321px"
   },
   "types_to_exclude": [
    "module",
    "function",
    "builtin_function_or_method",
    "instance",
    "_Feature"
   ],
   "window_display": false
  }
 },
 "nbformat": 4,
 "nbformat_minor": 2
}
