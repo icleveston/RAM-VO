{
 "cells": [
  {
   "cell_type": "code",
   "execution_count": 1,
   "metadata": {},
   "outputs": [],
   "source": [
    "import time\n",
    "\n",
    "import tensorflow as tf\n",
    "import logging\n",
    "tf.get_logger().setLevel(logging.ERROR)\n",
    "\n",
    "import numpy as np\n",
    "from sklearn.model_selection import train_test_split\n",
    "\n",
    "from model.ram import RecurrentAttentionModel\n",
    "\n",
    "from data.augmented_mnist import minibatcher\n",
    "from data.augmented_mnist import get_mnist\n",
    "\n",
    "from bayes_opt import BayesianOptimization"
   ]
  },
  {
   "cell_type": "code",
   "execution_count": 2,
   "metadata": {},
   "outputs": [
    {
     "name": "stdout",
     "output_type": "stream",
     "text": [
      "(45000, 28, 28, 1) (45000, 10) 1.0 0.0\n",
      "(15000, 28, 28, 1) (15000, 10) 1.0 0.0\n",
      "(10000, 28, 28, 1) (10000, 10) 1.0 0.0\n"
     ]
    }
   ],
   "source": [
    "(X_train, y_train),(X_test, y_test) = get_mnist(True, True, False)\n",
    "X_train, X_val, y_train, y_val = train_test_split(X_train, y_train, test_size=0.25, random_state=42)\n",
    "print(X_train.shape, y_train.shape, np.max(X_train), np.min(X_train))\n",
    "print(X_val.shape, y_val.shape, np.max(X_val), np.min(X_val))\n",
    "print(X_test.shape, y_test.shape, np.max(X_test), np.min(X_test))\n"
   ]
  },
  {
   "cell_type": "code",
   "execution_count": 3,
   "metadata": {},
   "outputs": [],
   "source": [
    "def train(learning_rate, std):\n",
    "    ram = RecurrentAttentionModel(time_steps=7,\n",
    "                          n_glimpses=1, \n",
    "                          glimpse_size=8,\n",
    "                          num_classes=10,\n",
    "                          max_gradient_norm=5.0,\n",
    "                          std=std.astype(np.float32))\n",
    "    optimizer = tf.keras.optimizers.Adam(learning_rate.astype(np.float32))    \n",
    "    batch_size = 200\n",
    "    for timestep in range(1):\n",
    "        batcher = minibatcher(X_train, y_train, batch_size, True)\n",
    "        for X, y in batcher:\n",
    "            with tf.GradientTape() as tape:\n",
    "                logits = ram(X)\n",
    "                hybrid_loss, _, _, _ = ram.hybrid_loss(logits, y)\n",
    "                # calculate gradient and do gradient descent\n",
    "                gradients = tape.gradient(hybrid_loss, ram.trainable_variables)\n",
    "                optimizer.apply_gradients(zip(gradients, ram.trainable_variables))\n",
    "\n",
    "        # testing step\n",
    "        batcher = minibatcher(X_val, y_val, batch_size, True)\n",
    "        accuracys = []\n",
    "        for X, y in batcher:\n",
    "            logits = ram(X)\n",
    "            accuracy, _, _ = ram.predict(logits, y)\n",
    "            accuracys.append(accuracy.numpy())\n",
    "    return np.mean(accuracys)"
   ]
  },
  {
   "cell_type": "code",
   "execution_count": 4,
   "metadata": {},
   "outputs": [],
   "source": [
    "# Bounded region of parameter space\n",
    "pbounds = {'learning_rate': (1e-8, 0.1), 'std': (0, 1)}\n",
    "\n",
    "# optimizer\n",
    "optimizer = BayesianOptimization(\n",
    "    f=train,\n",
    "    pbounds=pbounds,\n",
    "    random_state=42,\n",
    ")"
   ]
  },
  {
   "cell_type": "code",
   "execution_count": 5,
   "metadata": {},
   "outputs": [
    {
     "name": "stdout",
     "output_type": "stream",
     "text": [
      "|   iter    |  target   | learni... |    std    |\n",
      "-------------------------------------------------\n",
      "| \u001b[0m 1       \u001b[0m | \u001b[0m 0.1012  \u001b[0m | \u001b[0m 0.03745 \u001b[0m | \u001b[0m 0.9507  \u001b[0m |\n",
      "| \u001b[0m 2       \u001b[0m | \u001b[0m 0.1012  \u001b[0m | \u001b[0m 0.1     \u001b[0m | \u001b[0m 0.0     \u001b[0m |\n",
      "| \u001b[95m 3       \u001b[0m | \u001b[95m 0.109   \u001b[0m | \u001b[95m 0.08725 \u001b[0m | \u001b[95m 0.8278  \u001b[0m |\n",
      "| \u001b[0m 4       \u001b[0m | \u001b[0m 0.09633 \u001b[0m | \u001b[0m 0.1     \u001b[0m | \u001b[0m 1.0     \u001b[0m |\n",
      "| \u001b[0m 5       \u001b[0m | \u001b[0m 0.1022  \u001b[0m | \u001b[0m 1e-08   \u001b[0m | \u001b[0m 0.3844  \u001b[0m |\n",
      "| \u001b[0m 6       \u001b[0m | \u001b[0m 0.0986  \u001b[0m | \u001b[0m 0.1     \u001b[0m | \u001b[0m 0.4573  \u001b[0m |\n",
      "=================================================\n"
     ]
    }
   ],
   "source": [
    "# n_iter: How many steps of bayesian optimization you want to perform. The more steps the more likely to find a good maximum you are.\n",
    "# init_points: How many steps of random exploration you want to perform. Random exploration can help by diversifying the exploration space.\n",
    "optimizer.maximize(\n",
    "    init_points=0,\n",
    "    n_iter=5,\n",
    ")"
   ]
  },
  {
   "cell_type": "code",
   "execution_count": 6,
   "metadata": {},
   "outputs": [
    {
     "name": "stdout",
     "output_type": "stream",
     "text": [
      "{'target': 0.10900000482797623, 'params': {'std': 0.827801597161052, 'learning_rate': 0.08724767732947727}}\n"
     ]
    }
   ],
   "source": [
    "print(optimizer.max)"
   ]
  }
 ],
 "metadata": {
  "kernelspec": {
   "display_name": "Python 3",
   "language": "python",
   "name": "python3"
  },
  "language_info": {
   "codemirror_mode": {
    "name": "ipython",
    "version": 3
   },
   "file_extension": ".py",
   "mimetype": "text/x-python",
   "name": "python",
   "nbconvert_exporter": "python",
   "pygments_lexer": "ipython3",
   "version": "3.5.2"
  },
  "notify_time": "0",
  "varInspector": {
   "cols": {
    "lenName": 16,
    "lenType": 16,
    "lenVar": 40
   },
   "kernels_config": {
    "python": {
     "delete_cmd_postfix": "",
     "delete_cmd_prefix": "del ",
     "library": "var_list.py",
     "varRefreshCmd": "print(var_dic_list())"
    },
    "r": {
     "delete_cmd_postfix": ") ",
     "delete_cmd_prefix": "rm(",
     "library": "var_list.r",
     "varRefreshCmd": "cat(var_dic_list()) "
    }
   },
   "position": {
    "height": "176px",
    "left": "909px",
    "right": "50px",
    "top": "121px",
    "width": "321px"
   },
   "types_to_exclude": [
    "module",
    "function",
    "builtin_function_or_method",
    "instance",
    "_Feature"
   ],
   "window_display": false
  }
 },
 "nbformat": 4,
 "nbformat_minor": 2
}
